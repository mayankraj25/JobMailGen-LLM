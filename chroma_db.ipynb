{
 "cells": [
  {
   "cell_type": "code",
   "execution_count": 3,
   "id": "12b9be55-c238-48f9-9e4b-a8482677c9a4",
   "metadata": {},
   "outputs": [
    {
     "name": "stderr",
     "output_type": "stream",
     "text": [
      "Failed to send telemetry event ClientStartEvent: capture() takes 1 positional argument but 3 were given\n"
     ]
    }
   ],
   "source": [
    "import chromadb\n",
    "chroma_client = chromadb.Client()\n"
   ]
  },
  {
   "cell_type": "code",
   "execution_count": 4,
   "id": "78a49e35-4ad1-4329-a072-67a0e91780dc",
   "metadata": {
    "scrolled": true
   },
   "outputs": [
    {
     "name": "stderr",
     "output_type": "stream",
     "text": [
      "Failed to send telemetry event ClientCreateCollectionEvent: capture() takes 1 positional argument but 3 were given\n"
     ]
    },
    {
     "ename": "InternalError",
     "evalue": "Collection [my_collection] already exists",
     "output_type": "error",
     "traceback": [
      "\u001b[0;31m---------------------------------------------------------------------------\u001b[0m",
      "\u001b[0;31mInternalError\u001b[0m                             Traceback (most recent call last)",
      "Cell \u001b[0;32mIn[4], line 1\u001b[0m\n\u001b[0;32m----> 1\u001b[0m collection \u001b[38;5;241m=\u001b[39m chroma_client\u001b[38;5;241m.\u001b[39mcreate_collection(name\u001b[38;5;241m=\u001b[39m\u001b[38;5;124m\"\u001b[39m\u001b[38;5;124mmy_collection\u001b[39m\u001b[38;5;124m\"\u001b[39m)\n",
      "File \u001b[0;32m/opt/anaconda3/lib/python3.12/site-packages/chromadb/api/client.py:168\u001b[0m, in \u001b[0;36mClient.create_collection\u001b[0;34m(self, name, configuration, metadata, embedding_function, data_loader, get_or_create)\u001b[0m\n\u001b[1;32m    165\u001b[0m \u001b[38;5;28;01mif\u001b[39;00m embedding_function \u001b[38;5;129;01mis\u001b[39;00m \u001b[38;5;129;01mnot\u001b[39;00m \u001b[38;5;28;01mNone\u001b[39;00m \u001b[38;5;129;01mand\u001b[39;00m configuration_ef \u001b[38;5;129;01mis\u001b[39;00m \u001b[38;5;28;01mNone\u001b[39;00m:\n\u001b[1;32m    166\u001b[0m     configuration[\u001b[38;5;124m\"\u001b[39m\u001b[38;5;124membedding_function\u001b[39m\u001b[38;5;124m\"\u001b[39m] \u001b[38;5;241m=\u001b[39m embedding_function\n\u001b[0;32m--> 168\u001b[0m model \u001b[38;5;241m=\u001b[39m \u001b[38;5;28mself\u001b[39m\u001b[38;5;241m.\u001b[39m_server\u001b[38;5;241m.\u001b[39mcreate_collection(\n\u001b[1;32m    169\u001b[0m     name\u001b[38;5;241m=\u001b[39mname,\n\u001b[1;32m    170\u001b[0m     metadata\u001b[38;5;241m=\u001b[39mmetadata,\n\u001b[1;32m    171\u001b[0m     tenant\u001b[38;5;241m=\u001b[39m\u001b[38;5;28mself\u001b[39m\u001b[38;5;241m.\u001b[39mtenant,\n\u001b[1;32m    172\u001b[0m     database\u001b[38;5;241m=\u001b[39m\u001b[38;5;28mself\u001b[39m\u001b[38;5;241m.\u001b[39mdatabase,\n\u001b[1;32m    173\u001b[0m     get_or_create\u001b[38;5;241m=\u001b[39mget_or_create,\n\u001b[1;32m    174\u001b[0m     configuration\u001b[38;5;241m=\u001b[39mconfiguration,\n\u001b[1;32m    175\u001b[0m )\n\u001b[1;32m    176\u001b[0m \u001b[38;5;28;01mreturn\u001b[39;00m Collection(\n\u001b[1;32m    177\u001b[0m     client\u001b[38;5;241m=\u001b[39m\u001b[38;5;28mself\u001b[39m\u001b[38;5;241m.\u001b[39m_server,\n\u001b[1;32m    178\u001b[0m     model\u001b[38;5;241m=\u001b[39mmodel,\n\u001b[1;32m    179\u001b[0m     embedding_function\u001b[38;5;241m=\u001b[39membedding_function,\n\u001b[1;32m    180\u001b[0m     data_loader\u001b[38;5;241m=\u001b[39mdata_loader,\n\u001b[1;32m    181\u001b[0m )\n",
      "File \u001b[0;32m/opt/anaconda3/lib/python3.12/site-packages/chromadb/api/rust.py:227\u001b[0m, in \u001b[0;36mRustBindingsAPI.create_collection\u001b[0;34m(self, name, configuration, metadata, get_or_create, tenant, database)\u001b[0m\n\u001b[1;32m    224\u001b[0m \u001b[38;5;28;01melse\u001b[39;00m:\n\u001b[1;32m    225\u001b[0m     configuration_json_str \u001b[38;5;241m=\u001b[39m \u001b[38;5;28;01mNone\u001b[39;00m\n\u001b[0;32m--> 227\u001b[0m collection \u001b[38;5;241m=\u001b[39m \u001b[38;5;28mself\u001b[39m\u001b[38;5;241m.\u001b[39mbindings\u001b[38;5;241m.\u001b[39mcreate_collection(\n\u001b[1;32m    228\u001b[0m     name, configuration_json_str, metadata, get_or_create, tenant, database\n\u001b[1;32m    229\u001b[0m )\n\u001b[1;32m    230\u001b[0m collection_model \u001b[38;5;241m=\u001b[39m CollectionModel(\n\u001b[1;32m    231\u001b[0m     \u001b[38;5;28mid\u001b[39m\u001b[38;5;241m=\u001b[39mcollection\u001b[38;5;241m.\u001b[39mid,\n\u001b[1;32m    232\u001b[0m     name\u001b[38;5;241m=\u001b[39mcollection\u001b[38;5;241m.\u001b[39mname,\n\u001b[0;32m   (...)\u001b[0m\n\u001b[1;32m    237\u001b[0m     database\u001b[38;5;241m=\u001b[39mcollection\u001b[38;5;241m.\u001b[39mdatabase,\n\u001b[1;32m    238\u001b[0m )\n\u001b[1;32m    239\u001b[0m \u001b[38;5;28;01mreturn\u001b[39;00m collection_model\n",
      "\u001b[0;31mInternalError\u001b[0m: Collection [my_collection] already exists"
     ]
    }
   ],
   "source": [
    "collection = chroma_client.create_collection(name=\"my_collection\")\n"
   ]
  },
  {
   "cell_type": "code",
   "execution_count": 30,
   "id": "3ff3e407-d302-4309-a254-7de1b65137ed",
   "metadata": {},
   "outputs": [],
   "source": [
    "collection.add(\n",
    "    documents=[\n",
    "        \"This is a document about Hawaii\",\n",
    "        \"This is a document about Delhi\"\n",
    "    ],\n",
    "    ids=[\"id1\", \"id2\"],\n",
    "    metadatas=[\n",
    "        {\"url\":\"https://en.wikipedia.org/wiki/Hawaii\"},\n",
    "        {\"url\":\"https://en.wikipedia.org/wiki/Delhi\"}\n",
    "    ]\n",
    ")\n"
   ]
  },
  {
   "cell_type": "code",
   "execution_count": 31,
   "id": "76ea2fb6-0631-40ab-8756-d5693e2e8d82",
   "metadata": {},
   "outputs": [
    {
     "data": {
      "text/plain": [
       "{'ids': ['id1', 'id2'],\n",
       " 'embeddings': None,\n",
       " 'documents': ['This is a document about Hawaii',\n",
       "  'This is a document about Delhi'],\n",
       " 'uris': None,\n",
       " 'included': ['metadatas', 'documents'],\n",
       " 'data': None,\n",
       " 'metadatas': [{'url': 'https://en.wikipedia.org/wiki/Hawaii'},\n",
       "  {'url': 'https://en.wikipedia.org/wiki/Delhi'}]}"
      ]
     },
     "execution_count": 31,
     "metadata": {},
     "output_type": "execute_result"
    }
   ],
   "source": [
    "all_docs=collection.get()\n",
    "all_docs\n"
   ]
  },
  {
   "cell_type": "code",
   "execution_count": 32,
   "id": "142d204f-2d73-4a2d-a27b-4e80f6fc93de",
   "metadata": {},
   "outputs": [
    {
     "name": "stdout",
     "output_type": "stream",
     "text": [
      "{'ids': [['id1', 'id2']], 'embeddings': None, 'documents': [['This is a document about Hawaii', 'This is a document about Delhi']], 'uris': None, 'included': ['metadatas', 'documents', 'distances'], 'data': None, 'metadatas': [[{'url': 'https://en.wikipedia.org/wiki/Hawaii'}, {'url': 'https://en.wikipedia.org/wiki/Delhi'}]], 'distances': [[0.9704087972640991, 1.2294340133666992]]}\n"
     ]
    }
   ],
   "source": [
    "results = collection.query(\n",
    "    query_texts=[\"This is a query document about a USA\"], # Chroma will embed this for you\n",
    "    n_results=2 # how many results to return\n",
    ")\n",
    "print(results)\n"
   ]
  },
  {
   "cell_type": "code",
   "execution_count": 28,
   "id": "9db715a7-0065-4989-a86e-b254a64e1b36",
   "metadata": {},
   "outputs": [
    {
     "name": "stderr",
     "output_type": "stream",
     "text": [
      "Failed to send telemetry event CollectionDeleteEvent: capture() takes 1 positional argument but 3 were given\n"
     ]
    },
    {
     "data": {
      "text/plain": [
       "{'ids': [],\n",
       " 'embeddings': None,\n",
       " 'documents': [],\n",
       " 'uris': None,\n",
       " 'included': ['metadatas', 'documents'],\n",
       " 'data': None,\n",
       " 'metadatas': []}"
      ]
     },
     "execution_count": 28,
     "metadata": {},
     "output_type": "execute_result"
    }
   ],
   "source": [
    "collection.delete(ids=all_docs['ids'])\n",
    "collection.get()"
   ]
  },
  {
   "cell_type": "code",
   "execution_count": null,
   "id": "d5ac01ca-a2f8-4958-ba93-2148ed1cb183",
   "metadata": {},
   "outputs": [],
   "source": []
  }
 ],
 "metadata": {
  "kernelspec": {
   "display_name": "Python 3 (ipykernel)",
   "language": "python",
   "name": "python3"
  },
  "language_info": {
   "codemirror_mode": {
    "name": "ipython",
    "version": 3
   },
   "file_extension": ".py",
   "mimetype": "text/x-python",
   "name": "python",
   "nbconvert_exporter": "python",
   "pygments_lexer": "ipython3",
   "version": "3.12.7"
  }
 },
 "nbformat": 4,
 "nbformat_minor": 5
}
